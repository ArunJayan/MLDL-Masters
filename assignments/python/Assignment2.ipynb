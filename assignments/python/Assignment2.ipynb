{
 "cells": [
  {
   "cell_type": "markdown",
   "id": "a3fc426d",
   "metadata": {},
   "source": [
    "1)Create the below pattern using nested for loop in Python.\n",
    "\n",
    "    *\n",
    "    * *\n",
    "    * * *\n",
    "    * * * *\n",
    "    * * * * *\n",
    "    * * * *\n",
    "    * * *\n",
    "    * *\n",
    "    *"
   ]
  },
  {
   "cell_type": "code",
   "execution_count": 18,
   "id": "960d6140",
   "metadata": {},
   "outputs": [
    {
     "name": "stdout",
     "output_type": "stream",
     "text": [
      "* \r\n",
      "* * \r\n",
      "* * * \r\n",
      "* * * * \r\n",
      "* * * * * \r\n",
      "* * * * \r\n",
      "* * * \r\n",
      "* * \r\n",
      "* \r\n",
      "\r\n"
     ]
    }
   ],
   "source": [
    "def createPattern(center):\n",
    "    # Fucntion generate pattern using '*'\n",
    "    \n",
    "    # Create the top section \n",
    "    for i in range(0,center):\n",
    "        for j in range(0,i+1):\n",
    "            print('*',end=' ')\n",
    "        #print('\\n')\n",
    "        print('\\r')\n",
    "        \n",
    "    # create bottom section \n",
    "    for i in range(center,0,-1):\n",
    "        for j in range(0,i-1):\n",
    "            print('*',end=' ')\n",
    "        print('\\r')\n",
    "            \n",
    "createPattern(5)"
   ]
  },
  {
   "cell_type": "markdown",
   "id": "1e0b9876",
   "metadata": {},
   "source": [
    "2) Write a Python program to reverse a word after accepting the input from the user.\n",
    "\n",
    "**Sample Output:**\n",
    "\n",
    "Input word: ineuron \n",
    "\n",
    "Output: norueni"
   ]
  },
  {
   "cell_type": "code",
   "execution_count": 21,
   "id": "b0ee6c04",
   "metadata": {},
   "outputs": [
    {
     "name": "stdout",
     "output_type": "stream",
     "text": [
      "Input word:ineuron\n",
      "Output : norueni\n"
     ]
    }
   ],
   "source": [
    "def reverseWord():\n",
    "    word = input(\"Input word:\")\n",
    "    print(\"Output :\",word[::-1])\n",
    "    \n",
    "reverseWord()"
   ]
  }
 ],
 "metadata": {
  "kernelspec": {
   "display_name": "Python 3",
   "language": "python",
   "name": "python3"
  },
  "language_info": {
   "codemirror_mode": {
    "name": "ipython",
    "version": 3
   },
   "file_extension": ".py",
   "mimetype": "text/x-python",
   "name": "python",
   "nbconvert_exporter": "python",
   "pygments_lexer": "ipython3",
   "version": "3.8.10"
  }
 },
 "nbformat": 4,
 "nbformat_minor": 5
}
